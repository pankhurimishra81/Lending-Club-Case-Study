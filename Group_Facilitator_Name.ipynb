{
 "cells": [
  {
   "cell_type": "code",
   "execution_count": 1,
   "metadata": {},
   "outputs": [
    {
     "data": {
      "text/plain": [
       "(39717, 111)"
      ]
     },
     "execution_count": 1,
     "metadata": {},
     "output_type": "execute_result"
    }
   ],
   "source": [
    "import warnings \n",
    "import pandas as pd\n",
    "warnings.filterwarnings(\"ignore\")\n",
    "#loan = pd.read_csv(\"loan/loan.csv\",encoding=\"ISO-8859-1\")\n",
    "loan = pd.read_csv(\"loan/loan.csv\")\n",
    "loan.shape"
   ]
  },
  {
   "cell_type": "markdown",
   "metadata": {},
   "source": [
    "Understand the dataset and categorize the different attributes respect to :\n",
    "1. Applicant details \n",
    "2. Applicant credit history \n",
    "3. Loan details \n",
    "\n",
    "This will help identify the attributes required for analysis and help clear the unnecessary attributes available in the dataset .\n",
    "\n",
    "Among the 111 attribute<li>s available, we can categorize the atributes as follows :\n",
    "1. Applicant details :\n",
    "     <li>addr_state\n",
    "     <li>annual_inc\n",
    "     <li>annual_inc_joint\n",
    "     <li>emp_length\n",
    "     <li>emp_title\n",
    "     <li>home_ownership\n",
    "     <li>verification_status\n",
    "     <li>verified_status_joint\n",
    "     <li>zip_code\n",
    "\n",
    "    \n",
    " 2. Applicant credit history (maynot be directly related to credit scores, gives the overall idea about the applicant approches and transactions)\n",
    "    <li>avg_cur_bal\n",
    "    <li>bc_open_to_buy\n",
    "    <li>bc_util\n",
    "    <li>chargeoff_within_12_mths\n",
    "    <li>collection_recovery_fee\n",
    "    <li>collections_12_mths_ex_med\n",
    "    <li>delinq_2yrs\n",
    "    <li>delinq_amnt\n",
    "    <li>dti\n",
    "    <li>dti_joint\n",
    "    <li>earliest_cr_line\n",
    "    <li>fico_range_high\n",
    "    <li>fico_range_low\n",
    "    <li>il_util\n",
    "    <li>inq_last_12m\n",
    "    <li>inq_last_6mths\n",
    "    <li>last_fico_range_high\n",
    "    <li>last_fico_range_low\n",
    "    <li>last_pymnt_amnt\n",
    "    <li>last_pymnt_d\n",
    "    <li>max_bal_bc\n",
    "    <li>mo_sin_old_il_acct\n",
    "    <li>mo_sin_old_rev_tl_op\n",
    "    <li>mo_sin_rcnt_rev_tl_op\n",
    "    <li>mo_sin_rcnt_tl\n",
    "    <li>mort_acc\n",
    "    <li>mths_since_last_delinq\n",
    "    <li>mths_since_last_major_derog\n",
    "    <li>mths_since_last_record\n",
    "    <li>mths_since_rcnt_il\n",
    "    <li>mths_since_recent_bc\n",
    "    <li>mths_since_recent_bc_dlq\n",
    "    <li>mths_since_recent_inq\n",
    "    <li>mths_since_recent_revol_delinq\n",
    "    <li>num_accts_ever_120_pd\n",
    "    <li>num_actv_bc_tl\n",
    "    <li>num_actv_rev_tl\n",
    "    <li>num_bc_sats\n",
    "    <li>num_bc_tl\n",
    "    <li>num_il_tl\n",
    "    <li>num_op_rev_tl\n",
    "    <li>num_rev_accts\n",
    "    <li>num_rev_tl_bal_gt_0\n",
    "    <li>num_sats\n",
    "    <li>num_tl_120dpd_2m\n",
    "    <li>num_tl_30dpd\n",
    "    <li>num_tl_90g_dpd_24m\n",
    "    <li>num_tl_op_past_12m\n",
    "    <li>open_acc\n",
    "    <li>open_acc_6m\n",
    "    <li>open_il_12m\n",
    "    <li>open_il_24m\n",
    "    <li>open_il_6m\n",
    "    <li>open_rv_12m\n",
    "    <li>open_rv_24m\n",
    "    <li>out_prncp\n",
    "    <li>out_prncp_inv\n",
    "    <li>pct_tl_nvr_dlq\n",
    "    <li>percent_bc_gt_75\n",
    "    <li>policy_code\n",
    "    <li>pub_rec\n",
    "    <li>pub_rec_bankruptcies\n",
    "    <li>recoveries\n",
    "    <li>revol_bal\n",
    "    <li>revol_util\n",
    "    <li>tax_liens\n",
    "    <li>tot_coll_amt\n",
    "    <li>tot_cur_bal\n",
    "    <li>tot_hi_cred_lim\n",
    "    <li>total_acc\n",
    "    <li>total_bal_ex_mort\n",
    "    <li>total_bal_il\n",
    "    <li>total_bc_limit\n",
    "    <li>total_cu_tl\n",
    "    <li>total_rev_hi_lim  \n",
    "\n",
    " 3. Loan details \n",
    "    <li>application_type\n",
    "    <li>desc\n",
    "    <li>funded_amnt\n",
    "    <li>funded_amnt_inv\n",
    "    <li>grade\n",
    "    <li>id\n",
    "    <li>initial_list_status\n",
    "    <li>installment\n",
    "    <li>int_rate\n",
    "    <li>issue_d\n",
    "    <li>last_credit_pull_d\n",
    "    <li>loan_amnt\n",
    "    <li>loan_status\n",
    "    <li>member_id\n",
    "    <li>next_pymnt_d\n",
    "    <li>purpose\n",
    "    <li>pymnt_plan\n",
    "    <li>sub_grade\n",
    "    <li>term\n",
    "    <li>title\n",
    "    <li>total_il_high_credit_limit\n",
    "    <li>total_pymnt\n",
    "    <li>total_pymnt_inv\n",
    "    <li>total_rec_int\n",
    "    <li>total_rec_late_fee\n",
    "    <li>total_rec_prncp\n",
    "    <li>url\n",
    "\n",
    "Given the above list, attribute essential for the analysis needs to be identified \n",
    "\n",
    "1. Applicant Details -\n",
    "    <li><b>addr_state  - To be kept as we may have patterns here</b> \n",
    "    <li><b>annual_inc  - Essential for analysis</b>  \n",
    "    <li><b>annual_inc_joint - Essential for analysis</b>  \n",
    "    <li><b>emp_length - Essential for analysis </b> \n",
    "    <li>emp_title - Need to be dropped, won't add value for analysis \n",
    "    <li><b>home_ownership - Essential for analysis </b> \n",
    "    <li><b>verification_status - Essential for analysis </b> \n",
    "    <li><b>verified_status_joint - Essential for analysis </b> \n",
    "    <li>zip_code - Need to be dropped, won't add value for analysis. \n",
    "2. Applicant Credit History \n",
    "    There are mutliple attrbutes available, we can keep only the one which gives overall summary of the credit history \n",
    "    <li><b>dti</b> \n",
    "    <li><b>dti_joint</b> \n",
    "    <li>pub_rec_bankruptcies\n",
    "\n",
    "3. Loan Details \n",
    "    <li><b>application_type - To be kept as we may have patterns here</b> \n",
    "    <li>desc - Need to be dropped, won't add value for analysis. \n",
    "    <li>funded_amnt - Need to be dropped, won't add value for analysis. \n",
    "    <li>funded_amnt_inv - Need to be dropped, won't add value for analysis. \n",
    "    <li><b>grade - To be kept as we may have patterns here </b> \n",
    "    <li>id - Need to be dropped, won't add value for analysis. \n",
    "    <li>initial_list_status - Need to be dropped, won't add value for analysis. \n",
    "    <li><b>installment - Essential for analysis </b> \n",
    "    <li><b>int_rate - Essential for analysis </b> \n",
    "    <li><b>issue_d - Essential for analysis </b> \n",
    "    <li>last_credit_pull_d - Need to be dropped, won't add value for analysis. \n",
    "    <li><b>loan_amnt - Essential for analysis </b> \n",
    "    <li><b>loan_status - Essential for analysis </b> \n",
    "    <li>member_id - Need to be dropped, won't add value for analysis. \n",
    "    <li>next_pymnt_d - Need to be dropped, won't add value for analysis. \n",
    "    <li><b>purpose - Essential for analysis  -</b> \n",
    "    <li>pymnt_plan - Need to be dropped, won't add value for analysis. \n",
    "    <li><b>sub_grade - To be kept as we may have patterns here </b> \n",
    "    <li><b>term - To be kept as we may have patterns here </b> \n",
    "    <li>title -  Need to be dropped, won't add value for analysis. \n",
    "    <li>total_il_high_credit_limit - Need to be dropped, won't add value for analysis. \n",
    "    <li>total_pymnt - Need to be dropped, won't add value for analysis. \n",
    "    <li>total_pymnt_inv - Need to be dropped, won't add value for analysis. \n",
    "    <li>total_rec_int - Need to be dropped, won't add value for analysis. \n",
    "    <li>total_rec_late_fee - Need to be dropped, won't add value for analysis. \n",
    "    <li>total_rec_prncp - Need to be dropped, won't add value for analysis. \n",
    "    <li>url - Need to be dropped, won't add value for analysis. \n",
    "\n",
    "\n"
   ]
  },
  {
   "cell_type": "markdown",
   "metadata": {},
   "source": [
    "Now we have high level attribute identified for analysis.\n",
    "Let's get the dataset with the required attributes only\n",
    "\n",
    "\n"
   ]
  },
  {
   "cell_type": "code",
   "execution_count": 2,
   "metadata": {},
   "outputs": [
    {
     "data": {
      "text/plain": [
       "(39717, 19)"
      ]
     },
     "execution_count": 2,
     "metadata": {},
     "output_type": "execute_result"
    }
   ],
   "source": [
    "loan=loan[[\"addr_state\" ,\"annual_inc\", \"annual_inc_joint\",\"emp_length\",\"home_ownership\",\"verification_status\",\n",
    "           \"verification_status_joint\",\"dti\",\"dti_joint\",\"application_type\",\n",
    "           \"grade\",\"installment\",\"int_rate\",\"issue_d\",\"loan_amnt\",\"loan_status\",\"purpose\",\"sub_grade\",\"term\"]]\n",
    "loan.shape"
   ]
  },
  {
   "cell_type": "code",
   "execution_count": 3,
   "metadata": {},
   "outputs": [
    {
     "name": "stdout",
     "output_type": "stream",
     "text": [
      "****annual_inc_joint****\n",
      "Series([], Name: annual_inc_joint, dtype: int64)\n",
      "****dti_joint****\n",
      "Series([], Name: dti_joint, dtype: int64)\n",
      "****verification_status_joint****\n",
      "Series([], Name: verification_status_joint, dtype: int64)\n",
      "****application_type****\n",
      "INDIVIDUAL    39717\n",
      "Name: application_type, dtype: int64\n",
      "****sub_grade****\n",
      "B3    2917\n",
      "A4    2886\n",
      "A5    2742\n",
      "B5    2704\n",
      "B4    2512\n",
      "C1    2136\n",
      "B2    2057\n",
      "C2    2011\n",
      "B1    1830\n",
      "A3    1810\n",
      "C3    1529\n",
      "A2    1508\n",
      "D2    1348\n",
      "C4    1236\n",
      "C5    1186\n",
      "D3    1173\n",
      "A1    1139\n",
      "D4     981\n",
      "D1     931\n",
      "D5     874\n",
      "E1     763\n",
      "E2     656\n",
      "E3     553\n",
      "E4     454\n",
      "E5     416\n",
      "F1     329\n",
      "F2     249\n",
      "F3     185\n",
      "F4     168\n",
      "F5     118\n",
      "G1     104\n",
      "G2      78\n",
      "G4      56\n",
      "G3      48\n",
      "G5      30\n",
      "Name: sub_grade, dtype: int64\n",
      "****loan_status****\n",
      "Fully Paid     32950\n",
      "Charged Off     5627\n",
      "Current         1140\n",
      "Name: loan_status, dtype: int64\n"
     ]
    }
   ],
   "source": [
    "#Check values for attribute related to joint applicants \n",
    "print(\"****annual_inc_joint****\")\n",
    "print(loan[\"annual_inc_joint\"].value_counts())\n",
    "print(\"****dti_joint****\")\n",
    "print(loan[\"dti_joint\"].value_counts())\n",
    "print(\"****verification_status_joint****\")\n",
    "print(loan[\"verification_status_joint\"].value_counts())\n",
    "print(\"****application_type****\")\n",
    "print(loan[\"application_type\"].value_counts())\n",
    "#Check values subgrade \n",
    "print(\"****sub_grade****\")\n",
    "print(loan[\"sub_grade\"].value_counts())\n",
    "#Check values loan_status \n",
    "print(\"****loan_status****\")\n",
    "print(loan[\"loan_status\"].value_counts())"
   ]
  },
  {
   "cell_type": "markdown",
   "metadata": {},
   "source": [
    "With above observation - \n",
    "1. We can ignore the columns related to joint applications \n",
    "2. application_type has only INDIVIDUAL value, it can be dropped\n",
    "2. We can keep subgrade, could be useful when we identify patern among grades \n",
    "3. The Current loan status can be dropped \n",
    "\n"
   ]
  },
  {
   "cell_type": "code",
   "execution_count": 4,
   "metadata": {},
   "outputs": [
    {
     "data": {
      "text/plain": [
       "(39717, 15)"
      ]
     },
     "execution_count": 4,
     "metadata": {},
     "output_type": "execute_result"
    }
   ],
   "source": [
    "loan=loan.drop([\"annual_inc_joint\",\"dti_joint\",\"verification_status_joint\",\"application_type\"],axis=1)\n",
    "loan.shape\n"
   ]
  },
  {
   "cell_type": "code",
   "execution_count": 5,
   "metadata": {},
   "outputs": [
    {
     "data": {
      "text/plain": [
       "(38577, 15)"
      ]
     },
     "execution_count": 5,
     "metadata": {},
     "output_type": "execute_result"
    }
   ],
   "source": [
    "loan=loan[loan[\"loan_status\"]!=\"Current\"]\n",
    "loan.shape"
   ]
  },
  {
   "cell_type": "code",
   "execution_count": 6,
   "metadata": {},
   "outputs": [
    {
     "data": {
      "text/plain": [
       "Fully Paid     32950\n",
       "Charged Off     5627\n",
       "Name: loan_status, dtype: int64"
      ]
     },
     "execution_count": 6,
     "metadata": {},
     "output_type": "execute_result"
    }
   ],
   "source": [
    "#Validate if loan_status Current is dropped\n",
    "loan.loan_status.value_counts()"
   ]
  },
  {
   "cell_type": "markdown",
   "metadata": {},
   "source": [
    "Let's check pattern for missing values in the selected columns"
   ]
  },
  {
   "cell_type": "code",
   "execution_count": 7,
   "metadata": {},
   "outputs": [
    {
     "data": {
      "text/plain": [
       "addr_state             0.00\n",
       "annual_inc             0.00\n",
       "emp_length             2.68\n",
       "home_ownership         0.00\n",
       "verification_status    0.00\n",
       "dti                    0.00\n",
       "grade                  0.00\n",
       "installment            0.00\n",
       "int_rate               0.00\n",
       "issue_d                0.00\n",
       "loan_amnt              0.00\n",
       "loan_status            0.00\n",
       "purpose                0.00\n",
       "sub_grade              0.00\n",
       "term                   0.00\n",
       "dtype: float64"
      ]
     },
     "execution_count": 7,
     "metadata": {},
     "output_type": "execute_result"
    }
   ],
   "source": [
    "round(100*(loan.isnull().sum()/len(loan.index)), 2)"
   ]
  },
  {
   "cell_type": "code",
   "execution_count": 8,
   "metadata": {},
   "outputs": [
    {
     "data": {
      "text/plain": [
       "(37544, 15)"
      ]
     },
     "execution_count": 8,
     "metadata": {},
     "output_type": "execute_result"
    }
   ],
   "source": [
    "#With abovee data, we have employment length missing for 2.68% applicants. \n",
    "#Lets drop the data set with missing values \n",
    "loan = loan[~loan.emp_length.isna()]\n",
    "loan.shape\n"
   ]
  },
  {
   "cell_type": "code",
   "execution_count": 9,
   "metadata": {},
   "outputs": [
    {
     "data": {
      "text/plain": [
       "addr_state             0.0\n",
       "annual_inc             0.0\n",
       "emp_length             0.0\n",
       "home_ownership         0.0\n",
       "verification_status    0.0\n",
       "dti                    0.0\n",
       "grade                  0.0\n",
       "installment            0.0\n",
       "int_rate               0.0\n",
       "issue_d                0.0\n",
       "loan_amnt              0.0\n",
       "loan_status            0.0\n",
       "purpose                0.0\n",
       "sub_grade              0.0\n",
       "term                   0.0\n",
       "dtype: float64"
      ]
     },
     "execution_count": 9,
     "metadata": {},
     "output_type": "execute_result"
    }
   ],
   "source": [
    "# Valdate if the missing values are eliminated\n",
    "round(100*(loan.isnull().sum()/len(loan.index)), 2)"
   ]
  },
  {
   "cell_type": "markdown",
   "metadata": {},
   "source": [
    "Let's look at the primary trends on few attrubutes  (Univariate analysis)"
   ]
  },
  {
   "cell_type": "code",
   "execution_count": 67,
   "metadata": {},
   "outputs": [],
   "source": [
    "# Defining few functions to plot graphs. We will be using these later on for visualization\n",
    "import numpy as np\n",
    "import seaborn as sns\n",
    "import matplotlib.pyplot as plt\n",
    "\n",
    "def display_boxplot(variable):\n",
    "    fig_dims = (18,2)\n",
    "    fig, ax = plt.subplots(figsize=fig_dims)\n",
    "    sns.boxplot( x=variable, data=loan,ax=ax)\n",
    "    \n",
    "def display_countplot(variable):\n",
    "    fig_dims = (7,5)\n",
    "    fig, ax = plt.subplots(figsize=fig_dims)\n",
    "    sns.countplot(x=loan.loan_status, data=loan,hue=variable)\n",
    "\n",
    "    \n",
    "def display_bar_plot(variable):\n",
    "    g=sns.countplot(x=loan[variable], data=loan)\n",
    "    total = len(loan)\n",
    "    sizes=[]\n",
    "    for p in g.patches:\n",
    "        height = p.get_height()\n",
    "        sizes.append(height)\n",
    "        g.text(p.get_x()+p.get_width()/2.,\n",
    "                height-15,\n",
    "                '{:1.2f}%'.format(height/total*100),\n",
    "                ha=\"center\", fontsize=14) \n",
    "      \n"
   ]
  },
  {
   "cell_type": "code",
   "execution_count": 11,
   "metadata": {},
   "outputs": [
    {
     "data": {
      "image/png": "[encoded data removed]",
      "text/plain": [
       "<Figure size 1296x144 with 1 Axes>"
      ]
     },
     "metadata": {
      "needs_background": "light"
     },
     "output_type": "display_data"
    }
   ],
   "source": [
    "display_boxplot(\"loan_amnt\")"
   ]
  },
  {
   "cell_type": "markdown",
   "metadata": {},
   "source": [
    "Range of the loan processed is 5000-15000 with significant outliers beyond 30000"
   ]
  },
  {
   "cell_type": "code",
   "execution_count": 12,
   "metadata": {},
   "outputs": [
    {
     "data": {
      "image/png": "[encoded data removed]",
      "text/plain": [
       "<Figure size 1296x144 with 1 Axes>"
      ]
     },
     "metadata": {
      "needs_background": "light"
     },
     "output_type": "display_data"
    }
   ],
   "source": [
    "display_boxplot(\"annual_inc\")\n"
   ]
  },
  {
   "cell_type": "markdown",
   "metadata": {},
   "source": [
    "Most of the applicants have limited income - no sourceof income or minimum source of income.\n",
    "There are few outliers which can be excuded from the analysis ...\n",
    "Lets say,its safe to remove the outliers , applicant earning more than 1000000 can be excluded from the dataset\n"
   ]
  },
  {
   "cell_type": "code",
   "execution_count": 13,
   "metadata": {},
   "outputs": [
    {
     "data": {
      "text/plain": [
       "(37530, 15)"
      ]
     },
     "execution_count": 13,
     "metadata": {},
     "output_type": "execute_result"
    }
   ],
   "source": [
    "#Check how many outliers we are removing \n",
    "len(loan[loan[\"annual_inc\"]>1000000])\n",
    "#Remove the outliers and validate\n",
    "loan=loan[loan[\"annual_inc\"]<1000000]\n",
    "loan.shape"
   ]
  },
  {
   "cell_type": "markdown",
   "metadata": {},
   "source": [
    "From above we have clear income range of the applicants. Lets find using describe"
   ]
  },
  {
   "cell_type": "code",
   "execution_count": 14,
   "metadata": {},
   "outputs": [
    {
     "data": {
      "text/html": [
       "<div>\n",
       "<style scoped>\n",
       "    .dataframe tbody tr th:only-of-type {\n",
       "        vertical-align: middle;\n",
       "    }\n",
       "\n",
       "    .dataframe tbody tr th {\n",
       "        vertical-align: top;\n",
       "    }\n",
       "\n",
       "    .dataframe thead th {\n",
       "        text-align: right;\n",
       "    }\n",
       "</style>\n",
       "<table border=\"1\" class=\"dataframe\">\n",
       "  <thead>\n",
       "    <tr style=\"text-align: right;\">\n",
       "      <th></th>\n",
       "      <th>annual_inc</th>\n",
       "      <th>dti</th>\n",
       "      <th>installment</th>\n",
       "      <th>loan_amnt</th>\n",
       "    </tr>\n",
       "  </thead>\n",
       "  <tbody>\n",
       "    <tr>\n",
       "      <th>count</th>\n",
       "      <td>37530.000000</td>\n",
       "      <td>37530.000000</td>\n",
       "      <td>37530.000000</td>\n",
       "      <td>37530.000000</td>\n",
       "    </tr>\n",
       "    <tr>\n",
       "      <th>mean</th>\n",
       "      <td>68720.747033</td>\n",
       "      <td>13.288122</td>\n",
       "      <td>324.669605</td>\n",
       "      <td>11119.538369</td>\n",
       "    </tr>\n",
       "    <tr>\n",
       "      <th>std</th>\n",
       "      <td>47511.321260</td>\n",
       "      <td>6.657750</td>\n",
       "      <td>208.920047</td>\n",
       "      <td>7354.265544</td>\n",
       "    </tr>\n",
       "    <tr>\n",
       "      <th>min</th>\n",
       "      <td>4000.000000</td>\n",
       "      <td>0.000000</td>\n",
       "      <td>15.690000</td>\n",
       "      <td>500.000000</td>\n",
       "    </tr>\n",
       "    <tr>\n",
       "      <th>25%</th>\n",
       "      <td>41000.000000</td>\n",
       "      <td>8.160000</td>\n",
       "      <td>167.350000</td>\n",
       "      <td>5500.000000</td>\n",
       "    </tr>\n",
       "    <tr>\n",
       "      <th>50%</th>\n",
       "      <td>60000.000000</td>\n",
       "      <td>13.390000</td>\n",
       "      <td>280.000000</td>\n",
       "      <td>10000.000000</td>\n",
       "    </tr>\n",
       "    <tr>\n",
       "      <th>75%</th>\n",
       "      <td>83000.000000</td>\n",
       "      <td>18.550000</td>\n",
       "      <td>429.172500</td>\n",
       "      <td>15000.000000</td>\n",
       "    </tr>\n",
       "    <tr>\n",
       "      <th>max</th>\n",
       "      <td>948000.000000</td>\n",
       "      <td>29.990000</td>\n",
       "      <td>1305.190000</td>\n",
       "      <td>35000.000000</td>\n",
       "    </tr>\n",
       "  </tbody>\n",
       "</table>\n",
       "</div>"
      ],
      "text/plain": [
       "          annual_inc           dti   installment     loan_amnt\n",
       "count   37530.000000  37530.000000  37530.000000  37530.000000\n",
       "mean    68720.747033     13.288122    324.669605  11119.538369\n",
       "std     47511.321260      6.657750    208.920047   7354.265544\n",
       "min      4000.000000      0.000000     15.690000    500.000000\n",
       "25%     41000.000000      8.160000    167.350000   5500.000000\n",
       "50%     60000.000000     13.390000    280.000000  10000.000000\n",
       "75%     83000.000000     18.550000    429.172500  15000.000000\n",
       "max    948000.000000     29.990000   1305.190000  35000.000000"
      ]
     },
     "execution_count": 14,
     "metadata": {},
     "output_type": "execute_result"
    }
   ],
   "source": [
    "loan.describe()"
   ]
  },
  {
   "cell_type": "markdown",
   "metadata": {},
   "source": [
    "Now we have the income range of our applicants i.e. 41000-83000 with multiple outliers beyond 83000"
   ]
  },
  {
   "cell_type": "markdown",
   "metadata": {},
   "source": [
    "Our target variable is loan_status where we want to analyze the impact on \"Fully Paid\" and \"Charged Off\" "
   ]
  },
  {
   "cell_type": "code",
   "execution_count": 15,
   "metadata": {},
   "outputs": [
    {
     "name": "stdout",
     "output_type": "stream",
     "text": [
      "<class 'pandas.core.frame.DataFrame'>\n",
      "Int64Index: 37530 entries, 0 to 39716\n",
      "Data columns (total 15 columns):\n",
      "addr_state             37530 non-null object\n",
      "annual_inc             37530 non-null float64\n",
      "emp_length             37530 non-null object\n",
      "home_ownership         37530 non-null object\n",
      "verification_status    37530 non-null object\n",
      "dti                    37530 non-null float64\n",
      "grade                  37530 non-null object\n",
      "installment            37530 non-null float64\n",
      "int_rate               37530 non-null object\n",
      "issue_d                37530 non-null object\n",
      "loan_amnt              37530 non-null int64\n",
      "loan_status            37530 non-null object\n",
      "purpose                37530 non-null object\n",
      "sub_grade              37530 non-null object\n",
      "term                   37530 non-null object\n",
      "dtypes: float64(3), int64(1), object(11)\n",
      "memory usage: 4.6+ MB\n"
     ]
    }
   ],
   "source": [
    "loan.info()"
   ]
  },
  {
   "cell_type": "code",
   "execution_count": 16,
   "metadata": {},
   "outputs": [
    {
     "data": {
      "image/png": "[encoded data removed]",
      "text/plain": [
       "<Figure size 1296x144 with 1 Axes>"
      ]
     },
     "metadata": {
      "needs_background": "light"
     },
     "output_type": "display_data"
    }
   ],
   "source": [
    "display_boxplot(\"installment\")"
   ]
  },
  {
   "cell_type": "code",
   "execution_count": 17,
   "metadata": {},
   "outputs": [
    {
     "data": {
      "text/plain": [
       "<matplotlib.axes._subplots.AxesSubplot at 0x1574ea30f98>"
      ]
     },
     "execution_count": 17,
     "metadata": {},
     "output_type": "execute_result"
    },
    {
     "data": {
      "image/png": "[encoded data removed]",
      "text/plain": [
       "<Figure size 432x288 with 1 Axes>"
      ]
     },
     "metadata": {
      "needs_background": "light"
     },
     "output_type": "display_data"
    }
   ],
   "source": [
    "#Lets derive a new variable to reflect when was the loan issue if there is has any trend\n",
    "loan['issue_d_month'], loan['issue_d_year'] = loan['issue_d'].str.split('-').str\n",
    "loan.groupby('issue_d_year')['loan_status'].count().plot.line(x_compat=True)"
   ]
  },
  {
   "cell_type": "markdown",
   "metadata": {},
   "source": [
    "No. of loan applications has been rapidly increasing rapidly in last years "
   ]
  },
  {
   "cell_type": "code",
   "execution_count": 18,
   "metadata": {},
   "outputs": [
    {
     "data": {
      "text/plain": [
       "10.99    891\n",
       "11.49    766\n",
       "7.51     755\n",
       "13.49    736\n",
       "7.88     700\n",
       "7.49     629\n",
       "9.99     570\n",
       "7.90     552\n",
       "11.71    542\n",
       "5.42     524\n",
       "11.99    469\n",
       "10.37    451\n",
       "12.69    440\n",
       "8.49     419\n",
       "6.03     413\n",
       "12.99    396\n",
       "12.42    393\n",
       "10.65    392\n",
       "5.79     390\n",
       "11.86    383\n",
       "7.29     379\n",
       "6.62     376\n",
       "8.90     371\n",
       "9.63     368\n",
       "10.59    348\n",
       "14.27    336\n",
       "9.91     331\n",
       "5.99     329\n",
       "12.53    327\n",
       "7.14     327\n",
       "        ... \n",
       "15.83      2\n",
       "14.62      2\n",
       "17.15      2\n",
       "14.07      2\n",
       "14.88      2\n",
       "15.38      2\n",
       "14.25      2\n",
       "15.01      2\n",
       "14.70      2\n",
       "17.03      2\n",
       "15.07      2\n",
       "20.20      2\n",
       "16.20      1\n",
       "17.54      1\n",
       "16.96      1\n",
       "17.44      1\n",
       "16.15      1\n",
       "14.67      1\n",
       "22.94      1\n",
       "24.40      1\n",
       "18.36      1\n",
       "20.52      1\n",
       "13.84      1\n",
       "16.01      1\n",
       "17.46      1\n",
       "16.71      1\n",
       "21.48      1\n",
       "18.72      1\n",
       "17.34      1\n",
       "22.64      1\n",
       "Name: int_rate, Length: 370, dtype: int64"
      ]
     },
     "execution_count": 18,
     "metadata": {},
     "output_type": "execute_result"
    }
   ],
   "source": [
    "loan.int_rate=loan.int_rate.str.rstrip('%').astype(np.float)\n",
    "loan.int_rate.value_counts()\n"
   ]
  },
  {
   "cell_type": "code",
   "execution_count": 19,
   "metadata": {},
   "outputs": [
    {
     "data": {
      "image/png": "[encoded data removed]",
      "text/plain": [
       "<Figure size 1296x144 with 1 Axes>"
      ]
     },
     "metadata": {
      "needs_background": "light"
     },
     "output_type": "display_data"
    }
   ],
   "source": [
    "display_boxplot(\"int_rate\")"
   ]
  },
  {
   "cell_type": "markdown",
   "metadata": {},
   "source": [
    "8-14 is the typical interest used "
   ]
  },
  {
   "cell_type": "markdown",
   "metadata": {},
   "source": [
    "We will see now relation of attributes to loan status . As this will give understanding what is working for Fully Paid loans and what is not working for Charged Off loans "
   ]
  },
  {
   "cell_type": "code",
   "execution_count": 20,
   "metadata": {},
   "outputs": [
    {
     "name": "stdout",
     "output_type": "stream",
     "text": [
      "<class 'pandas.core.frame.DataFrame'>\n",
      "Int64Index: 37530 entries, 0 to 39716\n",
      "Data columns (total 17 columns):\n",
      "addr_state             37530 non-null object\n",
      "annual_inc             37530 non-null float64\n",
      "emp_length             37530 non-null object\n",
      "home_ownership         37530 non-null object\n",
      "verification_status    37530 non-null object\n",
      "dti                    37530 non-null float64\n",
      "grade                  37530 non-null object\n",
      "installment            37530 non-null float64\n",
      "int_rate               37530 non-null float64\n",
      "issue_d                37530 non-null object\n",
      "loan_amnt              37530 non-null int64\n",
      "loan_status            37530 non-null object\n",
      "purpose                37530 non-null object\n",
      "sub_grade              37530 non-null object\n",
      "term                   37530 non-null object\n",
      "issue_d_month          37530 non-null object\n",
      "issue_d_year           37530 non-null object\n",
      "dtypes: float64(4), int64(1), object(12)\n",
      "memory usage: 5.2+ MB\n"
     ]
    }
   ],
   "source": [
    "loan.info()"
   ]
  },
  {
   "cell_type": "code",
   "execution_count": 21,
   "metadata": {},
   "outputs": [
    {
     "data": {
      "text/plain": [
       "CA    6766\n",
       "NY    3597\n",
       "FL    2693\n",
       "TX    2604\n",
       "NJ    1767\n",
       "IL    1442\n",
       "PA    1437\n",
       "VA    1340\n",
       "GA    1319\n",
       "MA    1268\n",
       "Name: addr_state, dtype: int64"
      ]
     },
     "execution_count": 21,
     "metadata": {},
     "output_type": "execute_result"
    }
   ],
   "source": [
    "loan.addr_state.value_counts()[0:10]"
   ]
  },
  {
   "cell_type": "code",
   "execution_count": 22,
   "metadata": {},
   "outputs": [
    {
     "data": {
      "image/png": "[encoded data removed]",
      "text/plain": [
       "<Figure size 504x360 with 1 Axes>"
      ]
     },
     "metadata": {
      "needs_background": "light"
     },
     "output_type": "display_data"
    }
   ],
   "source": [
    "display_countplot(\"home_ownership\")"
   ]
  },
  {
   "cell_type": "markdown",
   "metadata": {},
   "source": [
    "Above clearly reflects most of applicants with Charged Off loan have Rnted property and we don't see any concern with other categories. Considering most applicants are from this area we need to be careful while approving loan"
   ]
  },
  {
   "cell_type": "code",
   "execution_count": 23,
   "metadata": {},
   "outputs": [
    {
     "data": {
      "image/png": "[encoded data removed]",
      "text/plain": [
       "<Figure size 504x360 with 1 Axes>"
      ]
     },
     "metadata": {
      "needs_background": "light"
     },
     "output_type": "display_data"
    }
   ],
   "source": [
    "display_countplot(\"verification_status\")"
   ]
  },
  {
   "cell_type": "markdown",
   "metadata": {},
   "source": [
    "This is unexpeced behaviour, we might want to check whats causing Verified ones being defaulters\n"
   ]
  },
  {
   "cell_type": "code",
   "execution_count": 24,
   "metadata": {},
   "outputs": [
    {
     "data": {
      "image/png": "[encoded data removed]",
      "text/plain": [
       "<Figure size 504x360 with 1 Axes>"
      ]
     },
     "metadata": {
      "needs_background": "light"
     },
     "output_type": "display_data"
    }
   ],
   "source": [
    "display_countplot(\"grade\")"
   ]
  },
  {
   "cell_type": "code",
   "execution_count": 25,
   "metadata": {},
   "outputs": [
    {
     "data": {
      "text/plain": [
       "10+ years    8483\n",
       "< 1 year     4507\n",
       "2 years      4290\n",
       "3 years      4011\n",
       "4 years      3342\n",
       "5 years      3193\n",
       "1 year       3167\n",
       "6 years      2168\n",
       "7 years      1710\n",
       "8 years      1434\n",
       "9 years      1225\n",
       "Name: emp_length, dtype: int64"
      ]
     },
     "execution_count": 25,
     "metadata": {},
     "output_type": "execute_result"
    }
   ],
   "source": [
    "#Lets move to emp_length and see if there is any pattern \n",
    "#Let's check its values first as its not numerical\n",
    "loan.emp_length.value_counts()"
   ]
  },
  {
   "cell_type": "code",
   "execution_count": 26,
   "metadata": {},
   "outputs": [
    {
     "data": {
      "image/png": "[encoded data removed]",
      "text/plain": [
       "<Figure size 432x288 with 1 Axes>"
      ]
     },
     "metadata": {
      "needs_background": "light"
     },
     "output_type": "display_data"
    },
    {
     "data": {
      "image/png": "[encoded data removed]",
      "text/plain": [
       "<Figure size 504x360 with 1 Axes>"
      ]
     },
     "metadata": {
      "needs_background": "light"
     },
     "output_type": "display_data"
    }
   ],
   "source": [
    "#Let's create derived variable using the applicants experience\n",
    "#We will need to clean the data here first ..Lets remove - years, year string and convert it into numneric\n",
    "def categorige_employment(emp):\n",
    "    empS=str(emp.replace(\"years\",\"\").replace(\"year\",\"\").replace(\"<\",\"\").replace(\"+\",\"\")).strip()\n",
    "    empN= int(empS)\n",
    "    if(empN <=2): #0,1,2\n",
    "        return \"0-2\"\n",
    "    elif(2<empN<=5): #3,4,5\n",
    "        return \"2-5\"\n",
    "    elif(5<empN<=8): #6,7,8\n",
    "        return \"6-8\"\n",
    "    else:\n",
    "        return \"8+\"\n",
    "\n",
    "\n",
    "loan['employment']=loan.apply(lambda x: categorige_employment(x.emp_length),axis=1)\n",
    "display_bar_plot(\"employment\")\n",
    "display_countplot(\"employment\")"
   ]
  },
  {
   "cell_type": "markdown",
   "metadata": {},
   "source": [
    "This is unexpeced behaviour, we might want to check whats causing Verified ones being defaulters\n"
   ]
  },
  {
   "cell_type": "code",
   "execution_count": 27,
   "metadata": {},
   "outputs": [
    {
     "data": {
      "image/png": "[encoded data removed]",
      "text/plain": [
       "<Figure size 504x360 with 1 Axes>"
      ]
     },
     "metadata": {
      "needs_background": "light"
     },
     "output_type": "display_data"
    }
   ],
   "source": [
    "display_countplot(\"purpose\")"
   ]
  },
  {
   "cell_type": "code",
   "execution_count": 60,
   "metadata": {},
   "outputs": [],
   "source": [
    "from IPython.display import display\n",
    "def find_pattern_with_loan_status(variable,x,y):\n",
    "    dict_fully_paid = loan[loan[\"loan_status\"]==\"Fully Paid\"][variable].value_counts().to_dict()\n",
    "    dict_charged_off = loan[loan[\"loan_status\"]==\"Charged Off\"][variable].value_counts().to_dict()\n",
    "    total=len(loan)\n",
    "    data=[]\n",
    "    cols=[variable,\"Fully Paid Off %\",\"Charged Off %\"]\n",
    "    for key in dict_fully_paid:\n",
    "        fully_paid= 0 if dict_fully_paid.get(key) is None else dict_fully_paid.get(key)\n",
    "        charged_off=0 if dict_charged_off.get(key) is None else dict_charged_off.get(key)\n",
    "        total=fully_paid+charged_off\n",
    "        fully_paid_per = round((fully_paid/total)*100,2)\n",
    "        charged_off_per = round((charged_off/total)*100,2)\n",
    "        data.append([key,float(fully_paid_per),float(charged_off_per)])\n",
    "        \n",
    "    df = pd.DataFrame(data, columns=cols)\n",
    "    df.set_index(variable, inplace=True)\n",
    "    df=df.sort_values(variable)\n",
    "    display(df)\n",
    "    fig_dims = (x,y)\n",
    "    fig, ax = plt.subplots(figsize=fig_dims)\n",
    "    df.plot(kind='bar',ax=ax)  "
   ]
  },
  {
   "cell_type": "code",
   "execution_count": 61,
   "metadata": {},
   "outputs": [
    {
     "data": {
      "text/html": [
       "<div>\n",
       "<style scoped>\n",
       "    .dataframe tbody tr th:only-of-type {\n",
       "        vertical-align: middle;\n",
       "    }\n",
       "\n",
       "    .dataframe tbody tr th {\n",
       "        vertical-align: top;\n",
       "    }\n",
       "\n",
       "    .dataframe thead th {\n",
       "        text-align: right;\n",
       "    }\n",
       "</style>\n",
       "<table border=\"1\" class=\"dataframe\">\n",
       "  <thead>\n",
       "    <tr style=\"text-align: right;\">\n",
       "      <th></th>\n",
       "      <th>Fully Paid Off %</th>\n",
       "      <th>Charged Off %</th>\n",
       "    </tr>\n",
       "    <tr>\n",
       "      <th>grade</th>\n",
       "      <th></th>\n",
       "      <th></th>\n",
       "    </tr>\n",
       "  </thead>\n",
       "  <tbody>\n",
       "    <tr>\n",
       "      <th>A</th>\n",
       "      <td>94.22</td>\n",
       "      <td>5.78</td>\n",
       "    </tr>\n",
       "    <tr>\n",
       "      <th>B</th>\n",
       "      <td>88.07</td>\n",
       "      <td>11.93</td>\n",
       "    </tr>\n",
       "    <tr>\n",
       "      <th>C</th>\n",
       "      <td>83.21</td>\n",
       "      <td>16.79</td>\n",
       "    </tr>\n",
       "    <tr>\n",
       "      <th>D</th>\n",
       "      <td>78.20</td>\n",
       "      <td>21.80</td>\n",
       "    </tr>\n",
       "    <tr>\n",
       "      <th>E</th>\n",
       "      <td>73.28</td>\n",
       "      <td>26.72</td>\n",
       "    </tr>\n",
       "    <tr>\n",
       "      <th>F</th>\n",
       "      <td>67.36</td>\n",
       "      <td>32.64</td>\n",
       "    </tr>\n",
       "    <tr>\n",
       "      <th>G</th>\n",
       "      <td>66.44</td>\n",
       "      <td>33.56</td>\n",
       "    </tr>\n",
       "  </tbody>\n",
       "</table>\n",
       "</div>"
      ],
      "text/plain": [
       "       Fully Paid Off %  Charged Off %\n",
       "grade                                 \n",
       "A                 94.22           5.78\n",
       "B                 88.07          11.93\n",
       "C                 83.21          16.79\n",
       "D                 78.20          21.80\n",
       "E                 73.28          26.72\n",
       "F                 67.36          32.64\n",
       "G                 66.44          33.56"
      ]
     },
     "metadata": {},
     "output_type": "display_data"
    },
    {
     "data": {
      "image/png": "[encoded data removed]",
      "text/plain": [
       "<Figure size 504x360 with 1 Axes>"
      ]
     },
     "metadata": {
      "needs_background": "light"
     },
     "output_type": "display_data"
    }
   ],
   "source": [
    "find_pattern_with_loan_status(\"grade\",7,5)"
   ]
  },
  {
   "cell_type": "code",
   "execution_count": 30,
   "metadata": {},
   "outputs": [
    {
     "name": "stdout",
     "output_type": "stream",
     "text": [
      "Object `g.text()` not found.\n"
     ]
    }
   ],
   "source": [
    "?g.text()"
   ]
  },
  {
   "cell_type": "code",
   "execution_count": 62,
   "metadata": {},
   "outputs": [
    {
     "data": {
      "text/html": [
       "<div>\n",
       "<style scoped>\n",
       "    .dataframe tbody tr th:only-of-type {\n",
       "        vertical-align: middle;\n",
       "    }\n",
       "\n",
       "    .dataframe tbody tr th {\n",
       "        vertical-align: top;\n",
       "    }\n",
       "\n",
       "    .dataframe thead th {\n",
       "        text-align: right;\n",
       "    }\n",
       "</style>\n",
       "<table border=\"1\" class=\"dataframe\">\n",
       "  <thead>\n",
       "    <tr style=\"text-align: right;\">\n",
       "      <th></th>\n",
       "      <th>Fully Paid Off %</th>\n",
       "      <th>Charged Off %</th>\n",
       "    </tr>\n",
       "    <tr>\n",
       "      <th>grade</th>\n",
       "      <th></th>\n",
       "      <th></th>\n",
       "    </tr>\n",
       "  </thead>\n",
       "  <tbody>\n",
       "    <tr>\n",
       "      <th>A</th>\n",
       "      <td>94.22</td>\n",
       "      <td>5.78</td>\n",
       "    </tr>\n",
       "    <tr>\n",
       "      <th>B</th>\n",
       "      <td>88.07</td>\n",
       "      <td>11.93</td>\n",
       "    </tr>\n",
       "    <tr>\n",
       "      <th>C</th>\n",
       "      <td>83.21</td>\n",
       "      <td>16.79</td>\n",
       "    </tr>\n",
       "    <tr>\n",
       "      <th>D</th>\n",
       "      <td>78.20</td>\n",
       "      <td>21.80</td>\n",
       "    </tr>\n",
       "    <tr>\n",
       "      <th>E</th>\n",
       "      <td>73.28</td>\n",
       "      <td>26.72</td>\n",
       "    </tr>\n",
       "    <tr>\n",
       "      <th>F</th>\n",
       "      <td>67.36</td>\n",
       "      <td>32.64</td>\n",
       "    </tr>\n",
       "    <tr>\n",
       "      <th>G</th>\n",
       "      <td>66.44</td>\n",
       "      <td>33.56</td>\n",
       "    </tr>\n",
       "  </tbody>\n",
       "</table>\n",
       "</div>"
      ],
      "text/plain": [
       "       Fully Paid Off %  Charged Off %\n",
       "grade                                 \n",
       "A                 94.22           5.78\n",
       "B                 88.07          11.93\n",
       "C                 83.21          16.79\n",
       "D                 78.20          21.80\n",
       "E                 73.28          26.72\n",
       "F                 67.36          32.64\n",
       "G                 66.44          33.56"
      ]
     },
     "metadata": {},
     "output_type": "display_data"
    },
    {
     "data": {
      "text/html": [
       "<div>\n",
       "<style scoped>\n",
       "    .dataframe tbody tr th:only-of-type {\n",
       "        vertical-align: middle;\n",
       "    }\n",
       "\n",
       "    .dataframe tbody tr th {\n",
       "        vertical-align: top;\n",
       "    }\n",
       "\n",
       "    .dataframe thead th {\n",
       "        text-align: right;\n",
       "    }\n",
       "</style>\n",
       "<table border=\"1\" class=\"dataframe\">\n",
       "  <thead>\n",
       "    <tr style=\"text-align: right;\">\n",
       "      <th></th>\n",
       "      <th>Fully Paid Off %</th>\n",
       "      <th>Charged Off %</th>\n",
       "    </tr>\n",
       "    <tr>\n",
       "      <th>verification_status</th>\n",
       "      <th></th>\n",
       "      <th></th>\n",
       "    </tr>\n",
       "  </thead>\n",
       "  <tbody>\n",
       "    <tr>\n",
       "      <th>Not Verified</th>\n",
       "      <td>87.41</td>\n",
       "      <td>12.59</td>\n",
       "    </tr>\n",
       "    <tr>\n",
       "      <th>Source Verified</th>\n",
       "      <td>85.29</td>\n",
       "      <td>14.71</td>\n",
       "    </tr>\n",
       "    <tr>\n",
       "      <th>Verified</th>\n",
       "      <td>83.41</td>\n",
       "      <td>16.59</td>\n",
       "    </tr>\n",
       "  </tbody>\n",
       "</table>\n",
       "</div>"
      ],
      "text/plain": [
       "                     Fully Paid Off %  Charged Off %\n",
       "verification_status                                 \n",
       "Not Verified                    87.41          12.59\n",
       "Source Verified                 85.29          14.71\n",
       "Verified                        83.41          16.59"
      ]
     },
     "metadata": {},
     "output_type": "display_data"
    },
    {
     "data": {
      "text/html": [
       "<div>\n",
       "<style scoped>\n",
       "    .dataframe tbody tr th:only-of-type {\n",
       "        vertical-align: middle;\n",
       "    }\n",
       "\n",
       "    .dataframe tbody tr th {\n",
       "        vertical-align: top;\n",
       "    }\n",
       "\n",
       "    .dataframe thead th {\n",
       "        text-align: right;\n",
       "    }\n",
       "</style>\n",
       "<table border=\"1\" class=\"dataframe\">\n",
       "  <thead>\n",
       "    <tr style=\"text-align: right;\">\n",
       "      <th></th>\n",
       "      <th>Fully Paid Off %</th>\n",
       "      <th>Charged Off %</th>\n",
       "    </tr>\n",
       "    <tr>\n",
       "      <th>addr_state</th>\n",
       "      <th></th>\n",
       "      <th></th>\n",
       "    </tr>\n",
       "  </thead>\n",
       "  <tbody>\n",
       "    <tr>\n",
       "      <th>AK</th>\n",
       "      <td>80.26</td>\n",
       "      <td>19.74</td>\n",
       "    </tr>\n",
       "    <tr>\n",
       "      <th>AL</th>\n",
       "      <td>87.80</td>\n",
       "      <td>12.20</td>\n",
       "    </tr>\n",
       "    <tr>\n",
       "      <th>AR</th>\n",
       "      <td>88.55</td>\n",
       "      <td>11.45</td>\n",
       "    </tr>\n",
       "    <tr>\n",
       "      <th>AZ</th>\n",
       "      <td>85.86</td>\n",
       "      <td>14.14</td>\n",
       "    </tr>\n",
       "    <tr>\n",
       "      <th>CA</th>\n",
       "      <td>84.13</td>\n",
       "      <td>15.87</td>\n",
       "    </tr>\n",
       "    <tr>\n",
       "      <th>CO</th>\n",
       "      <td>87.75</td>\n",
       "      <td>12.25</td>\n",
       "    </tr>\n",
       "    <tr>\n",
       "      <th>CT</th>\n",
       "      <td>87.39</td>\n",
       "      <td>12.61</td>\n",
       "    </tr>\n",
       "    <tr>\n",
       "      <th>DC</th>\n",
       "      <td>92.89</td>\n",
       "      <td>7.11</td>\n",
       "    </tr>\n",
       "    <tr>\n",
       "      <th>DE</th>\n",
       "      <td>89.09</td>\n",
       "      <td>10.91</td>\n",
       "    </tr>\n",
       "    <tr>\n",
       "      <th>FL</th>\n",
       "      <td>82.10</td>\n",
       "      <td>17.90</td>\n",
       "    </tr>\n",
       "    <tr>\n",
       "      <th>GA</th>\n",
       "      <td>84.15</td>\n",
       "      <td>15.85</td>\n",
       "    </tr>\n",
       "    <tr>\n",
       "      <th>HI</th>\n",
       "      <td>82.72</td>\n",
       "      <td>17.28</td>\n",
       "    </tr>\n",
       "    <tr>\n",
       "      <th>IA</th>\n",
       "      <td>100.00</td>\n",
       "      <td>0.00</td>\n",
       "    </tr>\n",
       "    <tr>\n",
       "      <th>ID</th>\n",
       "      <td>83.33</td>\n",
       "      <td>16.67</td>\n",
       "    </tr>\n",
       "    <tr>\n",
       "      <th>IL</th>\n",
       "      <td>86.55</td>\n",
       "      <td>13.45</td>\n",
       "    </tr>\n",
       "    <tr>\n",
       "      <th>IN</th>\n",
       "      <td>100.00</td>\n",
       "      <td>0.00</td>\n",
       "    </tr>\n",
       "    <tr>\n",
       "      <th>KS</th>\n",
       "      <td>89.34</td>\n",
       "      <td>10.66</td>\n",
       "    </tr>\n",
       "    <tr>\n",
       "      <th>KY</th>\n",
       "      <td>85.34</td>\n",
       "      <td>14.66</td>\n",
       "    </tr>\n",
       "    <tr>\n",
       "      <th>LA</th>\n",
       "      <td>87.50</td>\n",
       "      <td>12.50</td>\n",
       "    </tr>\n",
       "    <tr>\n",
       "      <th>MA</th>\n",
       "      <td>88.17</td>\n",
       "      <td>11.83</td>\n",
       "    </tr>\n",
       "    <tr>\n",
       "      <th>MD</th>\n",
       "      <td>84.25</td>\n",
       "      <td>15.75</td>\n",
       "    </tr>\n",
       "    <tr>\n",
       "      <th>ME</th>\n",
       "      <td>100.00</td>\n",
       "      <td>0.00</td>\n",
       "    </tr>\n",
       "    <tr>\n",
       "      <th>MI</th>\n",
       "      <td>85.67</td>\n",
       "      <td>14.33</td>\n",
       "    </tr>\n",
       "    <tr>\n",
       "      <th>MN</th>\n",
       "      <td>86.45</td>\n",
       "      <td>13.55</td>\n",
       "    </tr>\n",
       "    <tr>\n",
       "      <th>MO</th>\n",
       "      <td>83.62</td>\n",
       "      <td>16.38</td>\n",
       "    </tr>\n",
       "    <tr>\n",
       "      <th>MS</th>\n",
       "      <td>89.47</td>\n",
       "      <td>10.53</td>\n",
       "    </tr>\n",
       "    <tr>\n",
       "      <th>MT</th>\n",
       "      <td>87.01</td>\n",
       "      <td>12.99</td>\n",
       "    </tr>\n",
       "    <tr>\n",
       "      <th>NC</th>\n",
       "      <td>84.85</td>\n",
       "      <td>15.15</td>\n",
       "    </tr>\n",
       "    <tr>\n",
       "      <th>NE</th>\n",
       "      <td>40.00</td>\n",
       "      <td>60.00</td>\n",
       "    </tr>\n",
       "    <tr>\n",
       "      <th>NH</th>\n",
       "      <td>85.35</td>\n",
       "      <td>14.65</td>\n",
       "    </tr>\n",
       "    <tr>\n",
       "      <th>NJ</th>\n",
       "      <td>84.38</td>\n",
       "      <td>15.62</td>\n",
       "    </tr>\n",
       "    <tr>\n",
       "      <th>NM</th>\n",
       "      <td>83.71</td>\n",
       "      <td>16.29</td>\n",
       "    </tr>\n",
       "    <tr>\n",
       "      <th>NV</th>\n",
       "      <td>78.23</td>\n",
       "      <td>21.77</td>\n",
       "    </tr>\n",
       "    <tr>\n",
       "      <th>NY</th>\n",
       "      <td>86.77</td>\n",
       "      <td>13.23</td>\n",
       "    </tr>\n",
       "    <tr>\n",
       "      <th>OH</th>\n",
       "      <td>87.26</td>\n",
       "      <td>12.74</td>\n",
       "    </tr>\n",
       "    <tr>\n",
       "      <th>OK</th>\n",
       "      <td>85.82</td>\n",
       "      <td>14.18</td>\n",
       "    </tr>\n",
       "    <tr>\n",
       "      <th>OR</th>\n",
       "      <td>83.61</td>\n",
       "      <td>16.39</td>\n",
       "    </tr>\n",
       "    <tr>\n",
       "      <th>PA</th>\n",
       "      <td>88.17</td>\n",
       "      <td>11.83</td>\n",
       "    </tr>\n",
       "    <tr>\n",
       "      <th>RI</th>\n",
       "      <td>86.98</td>\n",
       "      <td>13.02</td>\n",
       "    </tr>\n",
       "    <tr>\n",
       "      <th>SC</th>\n",
       "      <td>85.81</td>\n",
       "      <td>14.19</td>\n",
       "    </tr>\n",
       "    <tr>\n",
       "      <th>SD</th>\n",
       "      <td>81.97</td>\n",
       "      <td>18.03</td>\n",
       "    </tr>\n",
       "    <tr>\n",
       "      <th>TN</th>\n",
       "      <td>88.24</td>\n",
       "      <td>11.76</td>\n",
       "    </tr>\n",
       "    <tr>\n",
       "      <th>TX</th>\n",
       "      <td>88.13</td>\n",
       "      <td>11.87</td>\n",
       "    </tr>\n",
       "    <tr>\n",
       "      <th>UT</th>\n",
       "      <td>84.21</td>\n",
       "      <td>15.79</td>\n",
       "    </tr>\n",
       "    <tr>\n",
       "      <th>VA</th>\n",
       "      <td>87.09</td>\n",
       "      <td>12.91</td>\n",
       "    </tr>\n",
       "    <tr>\n",
       "      <th>VT</th>\n",
       "      <td>88.68</td>\n",
       "      <td>11.32</td>\n",
       "    </tr>\n",
       "    <tr>\n",
       "      <th>WA</th>\n",
       "      <td>84.93</td>\n",
       "      <td>15.07</td>\n",
       "    </tr>\n",
       "    <tr>\n",
       "      <th>WI</th>\n",
       "      <td>86.15</td>\n",
       "      <td>13.85</td>\n",
       "    </tr>\n",
       "    <tr>\n",
       "      <th>WV</th>\n",
       "      <td>87.20</td>\n",
       "      <td>12.80</td>\n",
       "    </tr>\n",
       "    <tr>\n",
       "      <th>WY</th>\n",
       "      <td>96.05</td>\n",
       "      <td>3.95</td>\n",
       "    </tr>\n",
       "  </tbody>\n",
       "</table>\n",
       "</div>"
      ],
      "text/plain": [
       "            Fully Paid Off %  Charged Off %\n",
       "addr_state                                 \n",
       "AK                     80.26          19.74\n",
       "AL                     87.80          12.20\n",
       "AR                     88.55          11.45\n",
       "AZ                     85.86          14.14\n",
       "CA                     84.13          15.87\n",
       "CO                     87.75          12.25\n",
       "CT                     87.39          12.61\n",
       "DC                     92.89           7.11\n",
       "DE                     89.09          10.91\n",
       "FL                     82.10          17.90\n",
       "GA                     84.15          15.85\n",
       "HI                     82.72          17.28\n",
       "IA                    100.00           0.00\n",
       "ID                     83.33          16.67\n",
       "IL                     86.55          13.45\n",
       "IN                    100.00           0.00\n",
       "KS                     89.34          10.66\n",
       "KY                     85.34          14.66\n",
       "LA                     87.50          12.50\n",
       "MA                     88.17          11.83\n",
       "MD                     84.25          15.75\n",
       "ME                    100.00           0.00\n",
       "MI                     85.67          14.33\n",
       "MN                     86.45          13.55\n",
       "MO                     83.62          16.38\n",
       "MS                     89.47          10.53\n",
       "MT                     87.01          12.99\n",
       "NC                     84.85          15.15\n",
       "NE                     40.00          60.00\n",
       "NH                     85.35          14.65\n",
       "NJ                     84.38          15.62\n",
       "NM                     83.71          16.29\n",
       "NV                     78.23          21.77\n",
       "NY                     86.77          13.23\n",
       "OH                     87.26          12.74\n",
       "OK                     85.82          14.18\n",
       "OR                     83.61          16.39\n",
       "PA                     88.17          11.83\n",
       "RI                     86.98          13.02\n",
       "SC                     85.81          14.19\n",
       "SD                     81.97          18.03\n",
       "TN                     88.24          11.76\n",
       "TX                     88.13          11.87\n",
       "UT                     84.21          15.79\n",
       "VA                     87.09          12.91\n",
       "VT                     88.68          11.32\n",
       "WA                     84.93          15.07\n",
       "WI                     86.15          13.85\n",
       "WV                     87.20          12.80\n",
       "WY                     96.05           3.95"
      ]
     },
     "metadata": {},
     "output_type": "display_data"
    },
    {
     "data": {
      "text/html": [
       "<div>\n",
       "<style scoped>\n",
       "    .dataframe tbody tr th:only-of-type {\n",
       "        vertical-align: middle;\n",
       "    }\n",
       "\n",
       "    .dataframe tbody tr th {\n",
       "        vertical-align: top;\n",
       "    }\n",
       "\n",
       "    .dataframe thead th {\n",
       "        text-align: right;\n",
       "    }\n",
       "</style>\n",
       "<table border=\"1\" class=\"dataframe\">\n",
       "  <thead>\n",
       "    <tr style=\"text-align: right;\">\n",
       "      <th></th>\n",
       "      <th>Fully Paid Off %</th>\n",
       "      <th>Charged Off %</th>\n",
       "    </tr>\n",
       "    <tr>\n",
       "      <th>home_ownership</th>\n",
       "      <th></th>\n",
       "      <th></th>\n",
       "    </tr>\n",
       "  </thead>\n",
       "  <tbody>\n",
       "    <tr>\n",
       "      <th>MORTGAGE</th>\n",
       "      <td>86.47</td>\n",
       "      <td>13.53</td>\n",
       "    </tr>\n",
       "    <tr>\n",
       "      <th>NONE</th>\n",
       "      <td>100.00</td>\n",
       "      <td>0.00</td>\n",
       "    </tr>\n",
       "    <tr>\n",
       "      <th>OTHER</th>\n",
       "      <td>81.63</td>\n",
       "      <td>18.37</td>\n",
       "    </tr>\n",
       "    <tr>\n",
       "      <th>OWN</th>\n",
       "      <td>85.55</td>\n",
       "      <td>14.45</td>\n",
       "    </tr>\n",
       "    <tr>\n",
       "      <th>RENT</th>\n",
       "      <td>84.86</td>\n",
       "      <td>15.14</td>\n",
       "    </tr>\n",
       "  </tbody>\n",
       "</table>\n",
       "</div>"
      ],
      "text/plain": [
       "                Fully Paid Off %  Charged Off %\n",
       "home_ownership                                 \n",
       "MORTGAGE                   86.47          13.53\n",
       "NONE                      100.00           0.00\n",
       "OTHER                      81.63          18.37\n",
       "OWN                        85.55          14.45\n",
       "RENT                       84.86          15.14"
      ]
     },
     "metadata": {},
     "output_type": "display_data"
    },
    {
     "data": {
      "text/html": [
       "<div>\n",
       "<style scoped>\n",
       "    .dataframe tbody tr th:only-of-type {\n",
       "        vertical-align: middle;\n",
       "    }\n",
       "\n",
       "    .dataframe tbody tr th {\n",
       "        vertical-align: top;\n",
       "    }\n",
       "\n",
       "    .dataframe thead th {\n",
       "        text-align: right;\n",
       "    }\n",
       "</style>\n",
       "<table border=\"1\" class=\"dataframe\">\n",
       "  <thead>\n",
       "    <tr style=\"text-align: right;\">\n",
       "      <th></th>\n",
       "      <th>Fully Paid Off %</th>\n",
       "      <th>Charged Off %</th>\n",
       "    </tr>\n",
       "    <tr>\n",
       "      <th>purpose</th>\n",
       "      <th></th>\n",
       "      <th></th>\n",
       "    </tr>\n",
       "  </thead>\n",
       "  <tbody>\n",
       "    <tr>\n",
       "      <th>car</th>\n",
       "      <td>89.30</td>\n",
       "      <td>10.70</td>\n",
       "    </tr>\n",
       "    <tr>\n",
       "      <th>credit_card</th>\n",
       "      <td>89.59</td>\n",
       "      <td>10.41</td>\n",
       "    </tr>\n",
       "    <tr>\n",
       "      <th>debt_consolidation</th>\n",
       "      <td>84.84</td>\n",
       "      <td>15.16</td>\n",
       "    </tr>\n",
       "    <tr>\n",
       "      <th>educational</th>\n",
       "      <td>83.60</td>\n",
       "      <td>16.40</td>\n",
       "    </tr>\n",
       "    <tr>\n",
       "      <th>home_improvement</th>\n",
       "      <td>88.14</td>\n",
       "      <td>11.86</td>\n",
       "    </tr>\n",
       "    <tr>\n",
       "      <th>house</th>\n",
       "      <td>83.33</td>\n",
       "      <td>16.67</td>\n",
       "    </tr>\n",
       "    <tr>\n",
       "      <th>major_purchase</th>\n",
       "      <td>89.85</td>\n",
       "      <td>10.15</td>\n",
       "    </tr>\n",
       "    <tr>\n",
       "      <th>medical</th>\n",
       "      <td>84.60</td>\n",
       "      <td>15.40</td>\n",
       "    </tr>\n",
       "    <tr>\n",
       "      <th>moving</th>\n",
       "      <td>84.78</td>\n",
       "      <td>15.22</td>\n",
       "    </tr>\n",
       "    <tr>\n",
       "      <th>other</th>\n",
       "      <td>83.94</td>\n",
       "      <td>16.06</td>\n",
       "    </tr>\n",
       "    <tr>\n",
       "      <th>renewable_energy</th>\n",
       "      <td>80.85</td>\n",
       "      <td>19.15</td>\n",
       "    </tr>\n",
       "    <tr>\n",
       "      <th>small_business</th>\n",
       "      <td>72.98</td>\n",
       "      <td>27.02</td>\n",
       "    </tr>\n",
       "    <tr>\n",
       "      <th>vacation</th>\n",
       "      <td>85.63</td>\n",
       "      <td>14.37</td>\n",
       "    </tr>\n",
       "    <tr>\n",
       "      <th>wedding</th>\n",
       "      <td>89.92</td>\n",
       "      <td>10.08</td>\n",
       "    </tr>\n",
       "  </tbody>\n",
       "</table>\n",
       "</div>"
      ],
      "text/plain": [
       "                    Fully Paid Off %  Charged Off %\n",
       "purpose                                            \n",
       "car                            89.30          10.70\n",
       "credit_card                    89.59          10.41\n",
       "debt_consolidation             84.84          15.16\n",
       "educational                    83.60          16.40\n",
       "home_improvement               88.14          11.86\n",
       "house                          83.33          16.67\n",
       "major_purchase                 89.85          10.15\n",
       "medical                        84.60          15.40\n",
       "moving                         84.78          15.22\n",
       "other                          83.94          16.06\n",
       "renewable_energy               80.85          19.15\n",
       "small_business                 72.98          27.02\n",
       "vacation                       85.63          14.37\n",
       "wedding                        89.92          10.08"
      ]
     },
     "metadata": {},
     "output_type": "display_data"
    },
    {
     "data": {
      "text/html": [
       "<div>\n",
       "<style scoped>\n",
       "    .dataframe tbody tr th:only-of-type {\n",
       "        vertical-align: middle;\n",
       "    }\n",
       "\n",
       "    .dataframe tbody tr th {\n",
       "        vertical-align: top;\n",
       "    }\n",
       "\n",
       "    .dataframe thead th {\n",
       "        text-align: right;\n",
       "    }\n",
       "</style>\n",
       "<table border=\"1\" class=\"dataframe\">\n",
       "  <thead>\n",
       "    <tr style=\"text-align: right;\">\n",
       "      <th></th>\n",
       "      <th>Fully Paid Off %</th>\n",
       "      <th>Charged Off %</th>\n",
       "    </tr>\n",
       "    <tr>\n",
       "      <th>employment</th>\n",
       "      <th></th>\n",
       "      <th></th>\n",
       "    </tr>\n",
       "  </thead>\n",
       "  <tbody>\n",
       "    <tr>\n",
       "      <th>0-2</th>\n",
       "      <td>86.12</td>\n",
       "      <td>13.88</td>\n",
       "    </tr>\n",
       "    <tr>\n",
       "      <th>2-5</th>\n",
       "      <td>86.01</td>\n",
       "      <td>13.99</td>\n",
       "    </tr>\n",
       "    <tr>\n",
       "      <th>6-8</th>\n",
       "      <td>85.45</td>\n",
       "      <td>14.55</td>\n",
       "    </tr>\n",
       "    <tr>\n",
       "      <th>8+</th>\n",
       "      <td>84.66</td>\n",
       "      <td>15.34</td>\n",
       "    </tr>\n",
       "  </tbody>\n",
       "</table>\n",
       "</div>"
      ],
      "text/plain": [
       "            Fully Paid Off %  Charged Off %\n",
       "employment                                 \n",
       "0-2                    86.12          13.88\n",
       "2-5                    86.01          13.99\n",
       "6-8                    85.45          14.55\n",
       "8+                     84.66          15.34"
      ]
     },
     "metadata": {},
     "output_type": "display_data"
    },
    {
     "data": {
      "text/html": [
       "<div>\n",
       "<style scoped>\n",
       "    .dataframe tbody tr th:only-of-type {\n",
       "        vertical-align: middle;\n",
       "    }\n",
       "\n",
       "    .dataframe tbody tr th {\n",
       "        vertical-align: top;\n",
       "    }\n",
       "\n",
       "    .dataframe thead th {\n",
       "        text-align: right;\n",
       "    }\n",
       "</style>\n",
       "<table border=\"1\" class=\"dataframe\">\n",
       "  <thead>\n",
       "    <tr style=\"text-align: right;\">\n",
       "      <th></th>\n",
       "      <th>Fully Paid Off %</th>\n",
       "      <th>Charged Off %</th>\n",
       "    </tr>\n",
       "    <tr>\n",
       "      <th>term</th>\n",
       "      <th></th>\n",
       "      <th></th>\n",
       "    </tr>\n",
       "  </thead>\n",
       "  <tbody>\n",
       "    <tr>\n",
       "      <th>36 months</th>\n",
       "      <td>89.13</td>\n",
       "      <td>10.87</td>\n",
       "    </tr>\n",
       "    <tr>\n",
       "      <th>60 months</th>\n",
       "      <td>74.87</td>\n",
       "      <td>25.13</td>\n",
       "    </tr>\n",
       "  </tbody>\n",
       "</table>\n",
       "</div>"
      ],
      "text/plain": [
       "            Fully Paid Off %  Charged Off %\n",
       "term                                       \n",
       " 36 months             89.13          10.87\n",
       " 60 months             74.87          25.13"
      ]
     },
     "metadata": {},
     "output_type": "display_data"
    },
    {
     "data": {
      "image/png": "[encoded data removed]",
      "text/plain": [
       "<Figure size 504x360 with 1 Axes>"
      ]
     },
     "metadata": {
      "needs_background": "light"
     },
     "output_type": "display_data"
    },
    {
     "data": {
      "image/png": "[encoded data removed]",
      "text/plain": [
       "<Figure size 504x360 with 1 Axes>"
      ]
     },
     "metadata": {
      "needs_background": "light"
     },
     "output_type": "display_data"
    },
    {
     "data": {
      "image/png": "[encoded data removed]",
      "text/plain": [
       "<Figure size 864x720 with 1 Axes>"
      ]
     },
     "metadata": {
      "needs_background": "light"
     },
     "output_type": "display_data"
    },
    {
     "data": {
      "image/png": "[encoded data removed]",
      "text/plain": [
       "<Figure size 504x360 with 1 Axes>"
      ]
     },
     "metadata": {
      "needs_background": "light"
     },
     "output_type": "display_data"
    },
    {
     "data": {
      "image/png": "[encoded data removed]",
      "text/plain": [
       "<Figure size 504x360 with 1 Axes>"
      ]
     },
     "metadata": {
      "needs_background": "light"
     },
     "output_type": "display_data"
    },
    {
     "data": {
      "image/png": "[encoded data removed]",
      "text/plain": [
       "<Figure size 504x360 with 1 Axes>"
      ]
     },
     "metadata": {
      "needs_background": "light"
     },
     "output_type": "display_data"
    },
    {
     "data": {
      "image/png": "[encoded data removed]",
      "text/plain": [
       "<Figure size 504x360 with 1 Axes>"
      ]
     },
     "metadata": {
      "needs_background": "light"
     },
     "output_type": "display_data"
    }
   ],
   "source": [
    "find_pattern_with_loan_status(\"grade\",7,5)\n",
    "find_pattern_with_loan_status(\"verification_status\",7,5)\n",
    "find_pattern_with_loan_status(\"addr_state\",12,10)\n",
    "find_pattern_with_loan_status(\"home_ownership\",7,5)\n",
    "find_pattern_with_loan_status(\"purpose\",7,5)\n",
    "find_pattern_with_loan_status(\"employment\",7,5)\n",
    "find_pattern_with_loan_status(\"term\",7,5)"
   ]
  },
  {
   "cell_type": "markdown",
   "metadata": {},
   "source": [
    "lets see if the selected attrubutes have any correleation to each other"
   ]
  },
  {
   "cell_type": "code",
   "execution_count": 32,
   "metadata": {},
   "outputs": [
    {
     "data": {
      "text/plain": [
       "count    37530.000000\n",
       "mean     11119.538369\n",
       "std       7354.265544\n",
       "min        500.000000\n",
       "25%       5500.000000\n",
       "50%      10000.000000\n",
       "75%      15000.000000\n",
       "max      35000.000000\n",
       "Name: loan_amnt, dtype: float64"
      ]
     },
     "execution_count": 32,
     "metadata": {},
     "output_type": "execute_result"
    }
   ],
   "source": [
    "loan.loan_amnt.describe()"
   ]
  },
  {
   "cell_type": "code",
   "execution_count": 33,
   "metadata": {},
   "outputs": [],
   "source": [
    "#Let's create derived variable using the loan amount\n",
    "def categorige_loan(amnt):\n",
    "    if(amnt <=5000): #0-5K\n",
    "        return \"0-5K\"\n",
    "    elif(5000<amnt<=10000): #5-10K\n",
    "        return \"5-10K\"\n",
    "    elif(10000<amnt<=15000): #10-15K\n",
    "        return \"10-15K\"\n",
    "    elif(15000<amnt<=20000): #15-20K\n",
    "        return \"15-20K\"\n",
    "    elif(20000<amnt<=25000): #20-25K\n",
    "        return \"20-25K\"\n",
    "    elif(25000<amnt<=30000): #25-30K\n",
    "        return \"25-30K\"\n",
    "    else:#30-35K\n",
    "        return \"30-35K\""
   ]
  },
  {
   "cell_type": "code",
   "execution_count": 64,
   "metadata": {},
   "outputs": [
    {
     "data": {
      "text/html": [
       "<div>\n",
       "<style scoped>\n",
       "    .dataframe tbody tr th:only-of-type {\n",
       "        vertical-align: middle;\n",
       "    }\n",
       "\n",
       "    .dataframe tbody tr th {\n",
       "        vertical-align: top;\n",
       "    }\n",
       "\n",
       "    .dataframe thead th {\n",
       "        text-align: right;\n",
       "    }\n",
       "</style>\n",
       "<table border=\"1\" class=\"dataframe\">\n",
       "  <thead>\n",
       "    <tr style=\"text-align: right;\">\n",
       "      <th></th>\n",
       "      <th>Fully Paid Off %</th>\n",
       "      <th>Charged Off %</th>\n",
       "    </tr>\n",
       "    <tr>\n",
       "      <th>loan_amt_cat</th>\n",
       "      <th></th>\n",
       "      <th></th>\n",
       "    </tr>\n",
       "  </thead>\n",
       "  <tbody>\n",
       "    <tr>\n",
       "      <th>0-5K</th>\n",
       "      <td>86.51</td>\n",
       "      <td>13.49</td>\n",
       "    </tr>\n",
       "    <tr>\n",
       "      <th>10-15K</th>\n",
       "      <td>86.48</td>\n",
       "      <td>13.52</td>\n",
       "    </tr>\n",
       "    <tr>\n",
       "      <th>15-20K</th>\n",
       "      <td>82.76</td>\n",
       "      <td>17.24</td>\n",
       "    </tr>\n",
       "    <tr>\n",
       "      <th>20-25K</th>\n",
       "      <td>81.01</td>\n",
       "      <td>18.99</td>\n",
       "    </tr>\n",
       "    <tr>\n",
       "      <th>25-30K</th>\n",
       "      <td>79.48</td>\n",
       "      <td>20.52</td>\n",
       "    </tr>\n",
       "    <tr>\n",
       "      <th>30-35K</th>\n",
       "      <td>75.83</td>\n",
       "      <td>24.17</td>\n",
       "    </tr>\n",
       "    <tr>\n",
       "      <th>5-10K</th>\n",
       "      <td>87.37</td>\n",
       "      <td>12.63</td>\n",
       "    </tr>\n",
       "  </tbody>\n",
       "</table>\n",
       "</div>"
      ],
      "text/plain": [
       "              Fully Paid Off %  Charged Off %\n",
       "loan_amt_cat                                 \n",
       "0-5K                     86.51          13.49\n",
       "10-15K                   86.48          13.52\n",
       "15-20K                   82.76          17.24\n",
       "20-25K                   81.01          18.99\n",
       "25-30K                   79.48          20.52\n",
       "30-35K                   75.83          24.17\n",
       "5-10K                    87.37          12.63"
      ]
     },
     "metadata": {},
     "output_type": "display_data"
    },
    {
     "data": {
      "image/png": "[encoded data removed]",
      "text/plain": [
       "<Figure size 432x288 with 1 Axes>"
      ]
     },
     "metadata": {
      "needs_background": "light"
     },
     "output_type": "display_data"
    },
    {
     "data": {
      "image/png": "[encoded data removed]",
      "text/plain": [
       "<Figure size 504x360 with 1 Axes>"
      ]
     },
     "metadata": {
      "needs_background": "light"
     },
     "output_type": "display_data"
    },
    {
     "data": {
      "image/png": "[encoded data removed]",
      "text/plain": [
       "<Figure size 504x360 with 1 Axes>"
      ]
     },
     "metadata": {
      "needs_background": "light"
     },
     "output_type": "display_data"
    }
   ],
   "source": [
    "loan['loan_amt_cat']=loan.apply(lambda x: categorige_loan(x.loan_amnt),axis=1)\n",
    "display_bar_plot(\"loan_amt_cat\")\n",
    "display_countplot(\"loan_amt_cat\")\n",
    "find_pattern_with_loan_status(\"loan_amt_cat\",7,5)"
   ]
  },
  {
   "cell_type": "code",
   "execution_count": 35,
   "metadata": {},
   "outputs": [
    {
     "data": {
      "text/html": [
       "<div>\n",
       "<style scoped>\n",
       "    .dataframe tbody tr th:only-of-type {\n",
       "        vertical-align: middle;\n",
       "    }\n",
       "\n",
       "    .dataframe tbody tr th {\n",
       "        vertical-align: top;\n",
       "    }\n",
       "\n",
       "    .dataframe thead th {\n",
       "        text-align: right;\n",
       "    }\n",
       "</style>\n",
       "<table border=\"1\" class=\"dataframe\">\n",
       "  <thead>\n",
       "    <tr style=\"text-align: right;\">\n",
       "      <th></th>\n",
       "      <th>index</th>\n",
       "      <th>dti_cat</th>\n",
       "      <th>Fully Paid Off %</th>\n",
       "      <th>Charged Off %</th>\n",
       "    </tr>\n",
       "  </thead>\n",
       "  <tbody>\n",
       "    <tr>\n",
       "      <th>0</th>\n",
       "      <td>0</td>\n",
       "      <td>10-15</td>\n",
       "      <td>85.67</td>\n",
       "      <td>14.33</td>\n",
       "    </tr>\n",
       "    <tr>\n",
       "      <th>1</th>\n",
       "      <td>1</td>\n",
       "      <td>15-20</td>\n",
       "      <td>84.42</td>\n",
       "      <td>15.58</td>\n",
       "    </tr>\n",
       "    <tr>\n",
       "      <th>2</th>\n",
       "      <td>2</td>\n",
       "      <td>5-10</td>\n",
       "      <td>87.39</td>\n",
       "      <td>12.61</td>\n",
       "    </tr>\n",
       "    <tr>\n",
       "      <th>3</th>\n",
       "      <td>3</td>\n",
       "      <td>20-25</td>\n",
       "      <td>83.36</td>\n",
       "      <td>16.64</td>\n",
       "    </tr>\n",
       "    <tr>\n",
       "      <th>4</th>\n",
       "      <td>4</td>\n",
       "      <td>0-5</td>\n",
       "      <td>87.66</td>\n",
       "      <td>12.34</td>\n",
       "    </tr>\n",
       "    <tr>\n",
       "      <th>5</th>\n",
       "      <td>5</td>\n",
       "      <td>25-30</td>\n",
       "      <td>86.74</td>\n",
       "      <td>13.26</td>\n",
       "    </tr>\n",
       "  </tbody>\n",
       "</table>\n",
       "</div>"
      ],
      "text/plain": [
       "   index dti_cat  Fully Paid Off %  Charged Off %\n",
       "0      0   10-15             85.67          14.33\n",
       "1      1   15-20             84.42          15.58\n",
       "2      2    5-10             87.39          12.61\n",
       "3      3   20-25             83.36          16.64\n",
       "4      4     0-5             87.66          12.34\n",
       "5      5   25-30             86.74          13.26"
      ]
     },
     "metadata": {},
     "output_type": "display_data"
    },
    {
     "data": {
      "image/png": "[encoded data removed]",
      "text/plain": [
       "<Figure size 432x288 with 1 Axes>"
      ]
     },
     "metadata": {
      "needs_background": "light"
     },
     "output_type": "display_data"
    },
    {
     "data": {
      "image/png": "[encoded data removed]",
      "text/plain": [
       "<Figure size 504x360 with 1 Axes>"
      ]
     },
     "metadata": {
      "needs_background": "light"
     },
     "output_type": "display_data"
    },
    {
     "data": {
      "image/png": "[encoded data removed]",
      "text/plain": [
       "<Figure size 504x360 with 1 Axes>"
      ]
     },
     "metadata": {
      "needs_background": "light"
     },
     "output_type": "display_data"
    }
   ],
   "source": [
    "#Let's create derived variable using the loan amount\n",
    "def categorige_dti(var):\n",
    "    if(var <=5): #0-5\n",
    "        return \"0-5\"\n",
    "    elif(5<var<=10): #5-10\n",
    "        return \"5-10\"\n",
    "    elif(10<var<=15): #10-15\n",
    "        return \"10-15\"\n",
    "    elif(15<var<=20): #15-20\n",
    "        return \"15-20\"\n",
    "    elif(20<var<=25): #20-25\n",
    "        return \"20-25\"\n",
    "    else: #25-30\n",
    "        return \"25-30\"\n",
    "    \n",
    "loan['dti_cat']=loan.apply(lambda x: categorige_dti(x.dti),axis=1)\n",
    "display_bar_plot(\"dti_cat\")\n",
    "display_countplot(\"dti_cat\")\n",
    "find_pattern_with_loan_status(\"dti_cat\",7,5)\n"
   ]
  },
  {
   "cell_type": "code",
   "execution_count": 66,
   "metadata": {},
   "outputs": [
    {
     "data": {
      "text/html": [
       "<div>\n",
       "<style scoped>\n",
       "    .dataframe tbody tr th:only-of-type {\n",
       "        vertical-align: middle;\n",
       "    }\n",
       "\n",
       "    .dataframe tbody tr th {\n",
       "        vertical-align: top;\n",
       "    }\n",
       "\n",
       "    .dataframe thead th {\n",
       "        text-align: right;\n",
       "    }\n",
       "</style>\n",
       "<table border=\"1\" class=\"dataframe\">\n",
       "  <thead>\n",
       "    <tr style=\"text-align: right;\">\n",
       "      <th></th>\n",
       "      <th>annual_inc</th>\n",
       "      <th>dti</th>\n",
       "      <th>installment</th>\n",
       "      <th>int_rate</th>\n",
       "      <th>loan_amnt</th>\n",
       "    </tr>\n",
       "  </thead>\n",
       "  <tbody>\n",
       "    <tr>\n",
       "      <th>annual_inc</th>\n",
       "      <td>1.000000</td>\n",
       "      <td>-0.143426</td>\n",
       "      <td>0.365106</td>\n",
       "      <td>0.067597</td>\n",
       "      <td>0.363370</td>\n",
       "    </tr>\n",
       "    <tr>\n",
       "      <th>dti</th>\n",
       "      <td>-0.143426</td>\n",
       "      <td>1.000000</td>\n",
       "      <td>0.050562</td>\n",
       "      <td>0.111953</td>\n",
       "      <td>0.061340</td>\n",
       "    </tr>\n",
       "    <tr>\n",
       "      <th>installment</th>\n",
       "      <td>0.365106</td>\n",
       "      <td>0.050562</td>\n",
       "      <td>1.000000</td>\n",
       "      <td>0.274718</td>\n",
       "      <td>0.931724</td>\n",
       "    </tr>\n",
       "    <tr>\n",
       "      <th>int_rate</th>\n",
       "      <td>0.067597</td>\n",
       "      <td>0.111953</td>\n",
       "      <td>0.274718</td>\n",
       "      <td>1.000000</td>\n",
       "      <td>0.299192</td>\n",
       "    </tr>\n",
       "    <tr>\n",
       "      <th>loan_amnt</th>\n",
       "      <td>0.363370</td>\n",
       "      <td>0.061340</td>\n",
       "      <td>0.931724</td>\n",
       "      <td>0.299192</td>\n",
       "      <td>1.000000</td>\n",
       "    </tr>\n",
       "  </tbody>\n",
       "</table>\n",
       "</div>"
      ],
      "text/plain": [
       "             annual_inc       dti  installment  int_rate  loan_amnt\n",
       "annual_inc     1.000000 -0.143426     0.365106  0.067597   0.363370\n",
       "dti           -0.143426  1.000000     0.050562  0.111953   0.061340\n",
       "installment    0.365106  0.050562     1.000000  0.274718   0.931724\n",
       "int_rate       0.067597  0.111953     0.274718  1.000000   0.299192\n",
       "loan_amnt      0.363370  0.061340     0.931724  0.299192   1.000000"
      ]
     },
     "metadata": {},
     "output_type": "display_data"
    }
   ],
   "source": [
    "display(loan.corr())"
   ]
  },
  {
   "cell_type": "code",
   "execution_count": 37,
   "metadata": {},
   "outputs": [
    {
     "data": {
      "text/plain": [
       "<matplotlib.axes._subplots.AxesSubplot at 0x1574feaa4a8>"
      ]
     },
     "execution_count": 37,
     "metadata": {},
     "output_type": "execute_result"
    },
    {
     "data": {
      "image/png": "[encoded data removed]",
      "text/plain": [
       "<Figure size 432x288 with 2 Axes>"
      ]
     },
     "metadata": {
      "needs_background": "light"
     },
     "output_type": "display_data"
    }
   ],
   "source": [
    "sns.heatmap(loan.corr())\n"
   ]
  },
  {
   "cell_type": "markdown",
   "metadata": {},
   "source": [
    "Observations:\n",
    "1. annual income - negative correlation with int_rate. higher the income, lesser the int_rate\n",
    "2. dti - negatively correlated with every other attribute \n",
    "3. funded_amount - high correlation with funded_amnt_inv, installment & loan_amount\n",
    "4. loan amount and fund amonth have high correlation \n",
    "5. installment have high correlation with funded_amount,installment & loan_amount\n"
   ]
  },
  {
   "cell_type": "code",
   "execution_count": null,
   "metadata": {},
   "outputs": [],
   "source": []
  }
 ],
 "metadata": {
  "kernelspec": {
   "display_name": "Python 3",
   "language": "python",
   "name": "python3"
  },
  "language_info": {
   "codemirror_mode": {
    "name": "ipython",
    "version": 3
   },
   "file_extension": ".py",
   "mimetype": "text/x-python",
   "name": "python",
   "nbconvert_exporter": "python",
   "pygments_lexer": "ipython3",
   "version": "3.7.3"
  }
 },
 "nbformat": 4,
 "nbformat_minor": 2
}
